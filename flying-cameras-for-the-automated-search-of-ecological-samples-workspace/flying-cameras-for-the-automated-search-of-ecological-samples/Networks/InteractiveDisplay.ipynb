{
 "cells": [
  {
   "cell_type": "markdown",
   "metadata": {},
   "source": [
    "# Interactive neural network display\n",
    "\n",
    "Run the program by selecting the \"Kernel\" at the top and click \"Restart Kernel and Run All Cells...\"\n",
    "\n",
    "\n",
    "<img src=\"../Image/Instruction.PNG\" />\n",
    "\n",
    "### Additional resources:\n",
    "\n",
    "* Click [here](DisplayFunction.py) for the full code behind the FlyingCameraNetworkDisplay() function\n",
    "\n",
    " "
   ]
  },
  {
   "cell_type": "code",
   "execution_count": null,
   "metadata": {},
   "outputs": [],
   "source": [
    "%matplotlib inline\n",
    "%load_ext autoreload\n",
    "%autoreload 2\n",
    "%config InlineBackend.figure_format = 'retina'\n",
    "from DisplayFunction import FlyingCameraNetworkDisplay\n",
    "\n",
    "FlyingCameraNetworkDisplay()"
   ]
  }
 ],
 "metadata": {
  "kernelspec": {
   "display_name": "Python 3",
   "language": "python",
   "name": "python3"
  },
  "language_info": {
   "codemirror_mode": {
    "name": "ipython",
    "version": 3
   },
   "file_extension": ".py",
   "mimetype": "text/x-python",
   "name": "python",
   "nbconvert_exporter": "python",
   "pygments_lexer": "ipython3",
   "version": "3.6.5"
  }
 },
 "nbformat": 4,
 "nbformat_minor": 2
}
